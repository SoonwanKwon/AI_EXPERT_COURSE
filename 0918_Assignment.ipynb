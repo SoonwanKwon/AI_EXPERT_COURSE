{
  "nbformat": 4,
  "nbformat_minor": 0,
  "metadata": {
    "colab": {
      "name": "0918_Assignment.ipynb",
      "provenance": [],
      "collapsed_sections": []
    },
    "kernelspec": {
      "name": "python3",
      "display_name": "Python 3"
    }
  },
  "cells": [
    {
      "cell_type": "markdown",
      "metadata": {
        "id": "XJrZCWuBFkKL",
        "colab_type": "text"
      },
      "source": [
        "### 기본 라이브러리 import 및 data load( diabetes.csv)"
      ]
    },
    {
      "cell_type": "code",
      "metadata": {
        "id": "MfoX-cgkFQMP",
        "colab_type": "code",
        "outputId": "45c9470d-c4f0-4686-93a4-305b53839968",
        "colab": {
          "base_uri": "https://localhost:8080/",
          "height": 719
        }
      },
      "source": [
        "import tensorflow as tf\n",
        "from tensorflow import keras\n",
        "from tensorflow.keras import layers\n",
        "import matplotlib.pyplot as plt\n",
        "from matplotlib.pylab import rcParams\n",
        "import numpy as np\n",
        "\n",
        "from sklearn import datasets\n",
        "from sklearn.model_selection import train_test_split\n",
        "from keras.models import Sequential\n",
        "from keras.layers import Dense, Dropout, Activation, Flatten\n",
        "\n",
        "from keras.regularizers import l1, l2\n",
        "\n",
        "import pandas as pd\n",
        "\n",
        "%matplotlib inline\n",
        "rcParams['figure.figsize'] = 12, 10\n",
        "\n",
        "diabetes = datasets.load_diabetes()\n",
        "\n",
        "print(diabetes.data.shape) # data\n",
        "\n",
        "X = diabetes.data\n",
        "\n",
        "Y = diabetes.target\n",
        "\n",
        "dir(diabetes)\n",
        "print(diabetes.DESCR)\n"
      ],
      "execution_count": 18,
      "outputs": [
        {
          "output_type": "stream",
          "text": [
            "(442, 10)\n",
            ".. _diabetes_dataset:\n",
            "\n",
            "Diabetes dataset\n",
            "----------------\n",
            "\n",
            "Ten baseline variables, age, sex, body mass index, average blood\n",
            "pressure, and six blood serum measurements were obtained for each of n =\n",
            "442 diabetes patients, as well as the response of interest, a\n",
            "quantitative measure of disease progression one year after baseline.\n",
            "\n",
            "**Data Set Characteristics:**\n",
            "\n",
            "  :Number of Instances: 442\n",
            "\n",
            "  :Number of Attributes: First 10 columns are numeric predictive values\n",
            "\n",
            "  :Target: Column 11 is a quantitative measure of disease progression one year after baseline\n",
            "\n",
            "  :Attribute Information:\n",
            "      - Age\n",
            "      - Sex\n",
            "      - Body mass index\n",
            "      - Average blood pressure\n",
            "      - S1\n",
            "      - S2\n",
            "      - S3\n",
            "      - S4\n",
            "      - S5\n",
            "      - S6\n",
            "\n",
            "Note: Each of these 10 feature variables have been mean centered and scaled by the standard deviation times `n_samples` (i.e. the sum of squares of each column totals 1).\n",
            "\n",
            "Source URL:\n",
            "https://www4.stat.ncsu.edu/~boos/var.select/diabetes.html\n",
            "\n",
            "For more information see:\n",
            "Bradley Efron, Trevor Hastie, Iain Johnstone and Robert Tibshirani (2004) \"Least Angle Regression,\" Annals of Statistics (with discussion), 407-499.\n",
            "(https://web.stanford.edu/~hastie/Papers/LARS/LeastAngle_2002.pdf)\n"
          ],
          "name": "stdout"
        }
      ]
    },
    {
      "cell_type": "code",
      "metadata": {
        "id": "PZiH8rndLaV6",
        "colab_type": "code",
        "outputId": "7b744c3d-f4d3-4946-ff18-702f1f02cbae",
        "colab": {
          "base_uri": "https://localhost:8080/",
          "height": 197
        }
      },
      "source": [
        "#Split data into train and test\n",
        "\n",
        "x_train, x_test, y_train, y_test = train_test_split(X,Y, test_size = 0.3, random_state=0)\n",
        "\n",
        "print(x_train.shape)\n",
        "print(x_test.shape)\n",
        "\n",
        "print(x_test[0:4])\n",
        "\n",
        "# Each of these 10 feature variables have been mean centered and scaled by the standard deviation times `n_samples` (i.e. the sum of squares of each column totals 1).\n",
        "# Normalization is not needed!!!\n"
      ],
      "execution_count": 19,
      "outputs": [
        {
          "output_type": "stream",
          "text": [
            "(309, 10)\n",
            "(133, 10)\n",
            "[[ 0.01991321  0.05068012  0.10480869  0.07007254 -0.03596778 -0.0266789\n",
            "  -0.02499266 -0.00259226  0.00371174  0.04034337]\n",
            " [-0.01277963 -0.04464164  0.06061839  0.05285819  0.04796534  0.02937467\n",
            "  -0.01762938  0.03430886  0.0702113   0.00720652]\n",
            " [ 0.03807591  0.05068012  0.00888341  0.04252958 -0.04284755 -0.02104223\n",
            "  -0.03971921 -0.00259226 -0.01811827  0.00720652]\n",
            " [-0.01277963 -0.04464164 -0.02345095 -0.04009932 -0.01670444  0.00463594\n",
            "  -0.01762938 -0.00259226 -0.03845911 -0.03835666]]\n"
          ],
          "name": "stdout"
        }
      ]
    },
    {
      "cell_type": "markdown",
      "metadata": {
        "id": "ZBTRPEq5OY6m",
        "colab_type": "text"
      },
      "source": [
        "### Normalization된 data라서 별도의 feature normalization은 불 필요\n",
        "### Model Building ( 2Layers MLP)\n",
        "#### Layer 0와 1에 Regularization 추가 (별 도움은 없는 듯.)\n",
        "#### Layer 수/Size등을 조정해 봐도 MAE에서 큰 이득이 없음."
      ]
    },
    {
      "cell_type": "code",
      "metadata": {
        "id": "mXdiH1-iG6lg",
        "colab_type": "code",
        "outputId": "8b16022f-9d40-43c4-96c7-4bfbf85201a2",
        "colab": {
          "base_uri": "https://localhost:8080/",
          "height": 269
        }
      },
      "source": [
        "# NN Parameters\n",
        "\n",
        "def build_model():\n",
        "  model = keras.Sequential([\n",
        "      layers.Dense(8, activation=tf.nn.relu, input_shape=[10],activity_regularizer=l1(0.01)),\n",
        "      layers.Dense(4, activation=tf.nn.relu,activity_regularizer=l2(0.01)),\n",
        "      layers.Dense(1)\n",
        "  ])\n",
        "\n",
        "  #optimizer = tf.keras.optimizers.RMSprop(0.001)\n",
        "  optimizer = tf.keras.optimizers.Adam(lr=0.01)\n",
        "  model.compile(loss='mean_squared_error', optimizer=optimizer,\n",
        "             metrics=['mean_absolute_error','mean_squared_error'])\n",
        "  return model\n",
        "                      \n",
        "model = build_model()\n",
        "                      \n",
        "model.summary();"
      ],
      "execution_count": 20,
      "outputs": [
        {
          "output_type": "stream",
          "text": [
            "Model: \"sequential_2\"\n",
            "_________________________________________________________________\n",
            "Layer (type)                 Output Shape              Param #   \n",
            "=================================================================\n",
            "dense_6 (Dense)              (None, 8)                 88        \n",
            "_________________________________________________________________\n",
            "dense_7 (Dense)              (None, 4)                 36        \n",
            "_________________________________________________________________\n",
            "dense_8 (Dense)              (None, 1)                 5         \n",
            "=================================================================\n",
            "Total params: 129\n",
            "Trainable params: 129\n",
            "Non-trainable params: 0\n",
            "_________________________________________________________________\n"
          ],
          "name": "stdout"
        }
      ]
    },
    {
      "cell_type": "markdown",
      "metadata": {
        "id": "0z8M2rFqQjoQ",
        "colab_type": "text"
      },
      "source": [
        "### Model Traning : \n",
        "### 기본은 1000 Epoch, early stop 조건을 넣었음."
      ]
    },
    {
      "cell_type": "code",
      "metadata": {
        "id": "f7COnAO-Qn5p",
        "colab_type": "code",
        "outputId": "7f6ff998-13bb-418f-fbaf-0ec035dc13c1",
        "colab": {
          "base_uri": "https://localhost:8080/",
          "height": 71
        }
      },
      "source": [
        "class PrintDot(keras.callbacks.Callback):\n",
        "  def on_epoch_end(self, epoch, logs):\n",
        "    if  (epoch %100)==0: print ('')\n",
        "    print('.', end='')\n",
        "    \n",
        "    \n",
        "EPOCHS=1000\n",
        "\n",
        "early_stop = keras.callbacks.EarlyStopping(monitor='val_loss', patience=10)\n",
        "\n",
        "history = model.fit(x_train, y_train, epochs=EPOCHS, validation_split=0.1, verbose=0, batch_size=16,\n",
        "                   callbacks=[early_stop, PrintDot()])"
      ],
      "execution_count": 21,
      "outputs": [
        {
          "output_type": "stream",
          "text": [
            "\n",
            "....................................................................................................\n",
            "............................"
          ],
          "name": "stdout"
        }
      ]
    },
    {
      "cell_type": "code",
      "metadata": {
        "id": "diraCf9tRW64",
        "colab_type": "code",
        "outputId": "810ee62e-5599-4136-8eeb-f35ce7c7bb03",
        "colab": {
          "base_uri": "https://localhost:8080/",
          "height": 204
        }
      },
      "source": [
        "hist = pd.DataFrame(history.history)\n",
        "hist['epoch'] = history.epoch\n",
        "hist.tail()"
      ],
      "execution_count": 22,
      "outputs": [
        {
          "output_type": "execute_result",
          "data": {
            "text/html": [
              "<div>\n",
              "<style scoped>\n",
              "    .dataframe tbody tr th:only-of-type {\n",
              "        vertical-align: middle;\n",
              "    }\n",
              "\n",
              "    .dataframe tbody tr th {\n",
              "        vertical-align: top;\n",
              "    }\n",
              "\n",
              "    .dataframe thead th {\n",
              "        text-align: right;\n",
              "    }\n",
              "</style>\n",
              "<table border=\"1\" class=\"dataframe\">\n",
              "  <thead>\n",
              "    <tr style=\"text-align: right;\">\n",
              "      <th></th>\n",
              "      <th>loss</th>\n",
              "      <th>mean_absolute_error</th>\n",
              "      <th>mean_squared_error</th>\n",
              "      <th>val_loss</th>\n",
              "      <th>val_mean_absolute_error</th>\n",
              "      <th>val_mean_squared_error</th>\n",
              "      <th>epoch</th>\n",
              "    </tr>\n",
              "  </thead>\n",
              "  <tbody>\n",
              "    <tr>\n",
              "      <th>123</th>\n",
              "      <td>2811.609927</td>\n",
              "      <td>42.889847</td>\n",
              "      <td>2797.223633</td>\n",
              "      <td>2969.834040</td>\n",
              "      <td>45.241573</td>\n",
              "      <td>2954.473389</td>\n",
              "      <td>123</td>\n",
              "    </tr>\n",
              "    <tr>\n",
              "      <th>124</th>\n",
              "      <td>2822.392099</td>\n",
              "      <td>43.005604</td>\n",
              "      <td>2807.878418</td>\n",
              "      <td>2958.990376</td>\n",
              "      <td>45.218929</td>\n",
              "      <td>2943.581543</td>\n",
              "      <td>124</td>\n",
              "    </tr>\n",
              "    <tr>\n",
              "      <th>125</th>\n",
              "      <td>2816.738741</td>\n",
              "      <td>42.979603</td>\n",
              "      <td>2802.469727</td>\n",
              "      <td>2966.008561</td>\n",
              "      <td>45.157509</td>\n",
              "      <td>2950.695801</td>\n",
              "      <td>125</td>\n",
              "    </tr>\n",
              "    <tr>\n",
              "      <th>126</th>\n",
              "      <td>2823.324911</td>\n",
              "      <td>43.014931</td>\n",
              "      <td>2808.882080</td>\n",
              "      <td>2957.610383</td>\n",
              "      <td>45.275043</td>\n",
              "      <td>2942.173340</td>\n",
              "      <td>126</td>\n",
              "    </tr>\n",
              "    <tr>\n",
              "      <th>127</th>\n",
              "      <td>2821.897621</td>\n",
              "      <td>42.963470</td>\n",
              "      <td>2807.489014</td>\n",
              "      <td>2963.087639</td>\n",
              "      <td>45.118942</td>\n",
              "      <td>2947.784668</td>\n",
              "      <td>127</td>\n",
              "    </tr>\n",
              "  </tbody>\n",
              "</table>\n",
              "</div>"
            ],
            "text/plain": [
              "            loss  mean_absolute_error  ...  val_mean_squared_error  epoch\n",
              "123  2811.609927            42.889847  ...             2954.473389    123\n",
              "124  2822.392099            43.005604  ...             2943.581543    124\n",
              "125  2816.738741            42.979603  ...             2950.695801    125\n",
              "126  2823.324911            43.014931  ...             2942.173340    126\n",
              "127  2821.897621            42.963470  ...             2947.784668    127\n",
              "\n",
              "[5 rows x 7 columns]"
            ]
          },
          "metadata": {
            "tags": []
          },
          "execution_count": 22
        }
      ]
    },
    {
      "cell_type": "markdown",
      "metadata": {
        "id": "uhYOUHhxbBbz",
        "colab_type": "text"
      },
      "source": [
        "### MAE와 MSE 를 Train Error 및 VAL Error에 대해 그려봄.\n",
        "### Train Error와 Val Error 차이 적은 것으로 보아, Overfitting은 아닌 것으로 보임\n",
        "###  MAE 자체가 높은 것으로 보아, Bias Error가 큰 것으로 보이는데, 관련하여 모델 변경, 파라미터 변경 등을 해 보았는데 이득이 거의 없음. (데이터가 부족한 것으로 판단됨)"
      ]
    },
    {
      "cell_type": "code",
      "metadata": {
        "id": "Y0Y3LV-BRuGP",
        "colab_type": "code",
        "outputId": "5bc9daa3-0ce9-4595-96b0-8b236c2f8a57",
        "colab": {
          "base_uri": "https://localhost:8080/",
          "height": 718
        }
      },
      "source": [
        "def plot_history(history):\n",
        "  hist = pd.DataFrame(history.history)\n",
        "  hist['epoch'] = history.epoch\n",
        "\n",
        "  plt.figure(figsize=(8,12))\n",
        "\n",
        "  plt.subplot(2,1,1)\n",
        "  plt.xlabel('Epoch')\n",
        "  plt.ylabel('Mean Abs Error')\n",
        "  plt.plot(hist['epoch'], hist['mean_absolute_error'],\n",
        "           label='Train Error')\n",
        "  plt.plot(hist['epoch'], hist['val_mean_absolute_error'],\n",
        "           label = 'Val Error')\n",
        "  plt.legend()\n",
        "\n",
        "  plt.subplot(2,1,2)\n",
        "  plt.xlabel('Epoch')\n",
        "  plt.ylabel('Mean Square Error')\n",
        "  plt.plot(hist['epoch'], hist['mean_squared_error'],\n",
        "           label='Train Error')\n",
        "  plt.plot(hist['epoch'], hist['val_mean_squared_error'],\n",
        "           label = 'Val Error')\n",
        "  plt.legend()\n",
        "  plt.show()\n",
        "\n",
        "plot_history(history)\n",
        "  "
      ],
      "execution_count": 23,
      "outputs": [
        {
          "output_type": "display_data",
          "data": {
            "image/png": "[encoded data removed]",
            "text/plain": [
              "<Figure size 576x864 with 2 Axes>"
            ]
          },
          "metadata": {
            "tags": []
          }
        }
      ]
    },
    {
      "cell_type": "markdown",
      "metadata": {
        "id": "LFv5aOe8Sx1D",
        "colab_type": "text"
      },
      "source": [
        "### Test Accuracy using test set\n",
        "#### 1년 후 측정한 당뇨병의 진행률 예측 결과.. 대략 44~50% 수준의 MAE 를 보임.\n",
        "#### (Regularization, Optimzer 변경, activation function(sigmoid, Relu) 변경해도 큰차이 없음)\n",
        "#### Predicted Value와 True Value를 그려 보았을 때, 직선에서 꽤 많이 벗어는 형태의 결과를 보임. \n",
        "#### 큰 틀에서의 방향성은 조금 보이지만, 예측 값의 신뢰 수준은 낮은 듯함."
      ]
    },
    {
      "cell_type": "code",
      "metadata": {
        "id": "Cgvi9GFYS0wq",
        "colab_type": "code",
        "outputId": "90c5b899-5ab0-4bbc-f212-1376c4c8738d",
        "colab": {
          "base_uri": "https://localhost:8080/",
          "height": 663
        }
      },
      "source": [
        "loss, mae, mse = model.evaluate(x_test, y_test, verbose=0)\n",
        "print('Absolute Error using Test Set. : %5.2f'%(mae))\n",
        "print('MSE using Test Set. : %5.2f'%(mse))\n",
        "y_predict = model.predict(x_test)\n",
        "#for true_val, pred_val in zip(y_test, y_predict):\n",
        "#  print(\"%f, %f  diff=(%f)\"%(true_val, pred_val, (true_val-pred_val)))\n",
        "#diff = np.abs( (y_test - y_predict)/y_test)\n",
        "#diff.mean()\n",
        "#plt.plot(y_predict,'xb',label='predicted')\n",
        "#plt.plot(y_test,'*r', label ='True')\n",
        "plt.scatter(y_test,y_predict)\n",
        "plt.xlabel('True')\n",
        "plt.ylabel('Predicted')\n",
        "plt.legend()\n",
        "plt.show()"
      ],
      "execution_count": 24,
      "outputs": [
        {
          "output_type": "stream",
          "text": [
            "No handles with labels found to put in legend.\n"
          ],
          "name": "stderr"
        },
        {
          "output_type": "stream",
          "text": [
            "Absolute Error using Test Set. : 44.59\n",
            "MSE using Test Set. : 3096.72\n"
          ],
          "name": "stdout"
        },
        {
          "output_type": "display_data",
          "data": {
            "image/png": "[encoded data removed]",
            "text/plain": [
              "<Figure size 864x720 with 1 Axes>"
            ]
          },
          "metadata": {
            "tags": []
          }
        }
      ]
    }
  ]
}